{
 "cells": [
  {
   "cell_type": "markdown",
   "metadata": {},
   "source": [
    "# Exploration and Clustering of the Deutsche Bahn (DB) Data (Stations Dataset)\n",
    "\n",
    "<h1>Table of contents</h1>\n",
    "\n",
    "<div class=\"alert alert-block alert-info\" style=\"margin-top: 20px\">\n",
    "    <ol>\n",
    "        <li><a href=\"#ref1\">Import libraries and load the dataset</a></li>\n",
    "        <li><a href=\"#ref2\">Quick data preparation</a></li>\n",
    "        <li><a href=\"#ref3\">Perform visualization and data exploration</a></li>\n",
    "        <li><a href=\"#ref4\">Perform clustering on the stations</a></li>\n",
    "        <li><a href=\"#ref5\">Conclusion</a></li>\n",
    "    </ol>\n",
    "</div>\n",
    "<br>\n",
    "<hr>  \n",
    "\n",
    "<h2>\n",
    "<div class=\"alert alert-danger\"\" style=\"margin-top: 20px\">\n",
    "          If the map could NOT be opened, Please view the notebook via Jupyter nbviewer by <br> <a href=\"https://nbviewer.jupyter.org/github/Abdurahman-Amat/ds_projects/blob/master/DB_stations_dataset_analysis_clustering.ipynb\" target=\"_blank\">clicking here </a>, thank you!!!\n",
    "</div>\n",
    "</h2>\n"
   ]
  },
  {
   "cell_type": "markdown",
   "metadata": {},
   "source": [
    "<hr>"
   ]
  },
  {
   "cell_type": "markdown",
   "metadata": {},
   "source": [
    "<a id=\"ref1\"></a>\n",
    "# Import libraries and load the dataset  "
   ]
  },
  {
   "cell_type": "code",
   "execution_count": 20,
   "metadata": {},
   "outputs": [],
   "source": [
    "import numpy as np\n",
    "import pandas as pd\n",
    "import folium # map rendering library\n",
    "# import k-means from clustering stage\n",
    "from scipy.spatial.distance import cdist \n",
    "from sklearn.preprocessing import StandardScaler\n",
    "from sklearn.metrics import silhouette_samples, silhouette_score\n",
    "from sklearn.cluster import KMeans\n",
    "# Matplotlib and associated plotting modules\n",
    "import matplotlib.cm as cm\n",
    "import matplotlib.colors as colors\n",
    "import matplotlib.pyplot as plt\n",
    "import seaborn as sns"
   ]
  },
  {
   "cell_type": "code",
   "execution_count": 21,
   "metadata": {},
   "outputs": [
    {
     "data": {
      "text/html": [
       "<div>\n",
       "<style scoped>\n",
       "    .dataframe tbody tr th:only-of-type {\n",
       "        vertical-align: middle;\n",
       "    }\n",
       "\n",
       "    .dataframe tbody tr th {\n",
       "        vertical-align: top;\n",
       "    }\n",
       "\n",
       "    .dataframe thead th {\n",
       "        text-align: right;\n",
       "    }\n",
       "</style>\n",
       "<table border=\"1\" class=\"dataframe\">\n",
       "  <thead>\n",
       "    <tr style=\"text-align: right;\">\n",
       "      <th></th>\n",
       "      <th>EVA_NR</th>\n",
       "      <th>DS100</th>\n",
       "      <th>IFOPT</th>\n",
       "      <th>NAME</th>\n",
       "      <th>Verkehr</th>\n",
       "      <th>Laenge</th>\n",
       "      <th>Breite</th>\n",
       "      <th>Betreiber_Name</th>\n",
       "      <th>Betreiber_Nr</th>\n",
       "      <th>Status</th>\n",
       "    </tr>\n",
       "  </thead>\n",
       "  <tbody>\n",
       "    <tr>\n",
       "      <th>0</th>\n",
       "      <td>8002551</td>\n",
       "      <td>AELB</td>\n",
       "      <td>de:02000:11943</td>\n",
       "      <td>Hamburg Elbbrücken</td>\n",
       "      <td>RV</td>\n",
       "      <td>10.024500</td>\n",
       "      <td>53.534500</td>\n",
       "      <td>DB Station und Service AG</td>\n",
       "      <td>NaN</td>\n",
       "      <td>neu</td>\n",
       "    </tr>\n",
       "    <tr>\n",
       "      <th>1</th>\n",
       "      <td>8001944</td>\n",
       "      <td>TETN</td>\n",
       "      <td>NaN</td>\n",
       "      <td>Eutingen Nord</td>\n",
       "      <td>RV</td>\n",
       "      <td>8.753100</td>\n",
       "      <td>48.484700</td>\n",
       "      <td>DB Station und Service AG</td>\n",
       "      <td>NaN</td>\n",
       "      <td>neu</td>\n",
       "    </tr>\n",
       "    <tr>\n",
       "      <th>2</th>\n",
       "      <td>8003074</td>\n",
       "      <td>MIA</td>\n",
       "      <td>NaN</td>\n",
       "      <td>Ingolstadt Audi</td>\n",
       "      <td>RV</td>\n",
       "      <td>11.407456</td>\n",
       "      <td>48.790496</td>\n",
       "      <td>DB Station und Service AG</td>\n",
       "      <td>NaN</td>\n",
       "      <td>neu</td>\n",
       "    </tr>\n",
       "    <tr>\n",
       "      <th>3</th>\n",
       "      <td>8001723</td>\n",
       "      <td>HEBA</td>\n",
       "      <td>NaN</td>\n",
       "      <td>Einbeck Otto-Hahn-Straße</td>\n",
       "      <td>RV</td>\n",
       "      <td>9.892910</td>\n",
       "      <td>51.814478</td>\n",
       "      <td>Ilmebahn GmbH</td>\n",
       "      <td>NaN</td>\n",
       "      <td>neu</td>\n",
       "    </tr>\n",
       "    <tr>\n",
       "      <th>4</th>\n",
       "      <td>8004371</td>\n",
       "      <td>KRO</td>\n",
       "      <td>NaN</td>\n",
       "      <td>Nörvenich-Rommelsheim</td>\n",
       "      <td>nur DPN</td>\n",
       "      <td>6.547586</td>\n",
       "      <td>50.782539</td>\n",
       "      <td>Rurtalbahn GmbH</td>\n",
       "      <td>NaN</td>\n",
       "      <td>neu</td>\n",
       "    </tr>\n",
       "  </tbody>\n",
       "</table>\n",
       "</div>"
      ],
      "text/plain": [
       "    EVA_NR DS100           IFOPT                      NAME  Verkehr  \\\n",
       "0  8002551  AELB  de:02000:11943        Hamburg Elbbrücken       RV   \n",
       "1  8001944  TETN             NaN             Eutingen Nord       RV   \n",
       "2  8003074   MIA             NaN           Ingolstadt Audi       RV   \n",
       "3  8001723  HEBA             NaN  Einbeck Otto-Hahn-Straße       RV   \n",
       "4  8004371   KRO             NaN     Nörvenich-Rommelsheim  nur DPN   \n",
       "\n",
       "      Laenge     Breite             Betreiber_Name  Betreiber_Nr Status  \n",
       "0  10.024500  53.534500  DB Station und Service AG           NaN    neu  \n",
       "1   8.753100  48.484700  DB Station und Service AG           NaN    neu  \n",
       "2  11.407456  48.790496  DB Station und Service AG           NaN    neu  \n",
       "3   9.892910  51.814478              Ilmebahn GmbH           NaN    neu  \n",
       "4   6.547586  50.782539            Rurtalbahn GmbH           NaN    neu  "
      ]
     },
     "execution_count": 21,
     "metadata": {},
     "output_type": "execute_result"
    }
   ],
   "source": [
    "# data_path = '\\data\\D_Bahnhof_2020_alle.csv'\n",
    "# this and more otehr datasets are also acceeable via DB API. Here I just used provided CSV file directly.\n",
    "# data source:\n",
    "#  url = 'https://data.deutschebahn.com/dataset/data-haltestellen'\n",
    "# the decimal ',' must be passed for German numbers which use comma as decimal marker instead of point\n",
    "df = pd.read_csv('data\\D_Bahnhof_2020_alle.csv', sep=';', decimal=',')\n",
    "df.head()"
   ]
  },
  {
   "cell_type": "code",
   "execution_count": 22,
   "metadata": {},
   "outputs": [
    {
     "data": {
      "text/plain": [
       "(6519, 10)"
      ]
     },
     "execution_count": 22,
     "metadata": {},
     "output_type": "execute_result"
    }
   ],
   "source": [
    "df.shape"
   ]
  },
  {
   "cell_type": "markdown",
   "metadata": {},
   "source": [
    "So, the loading the dataset is successfull. We can see that there are totally 6519 Deutsche Bahn (DB) Stations are listed in this dataset. Each entry has 10 features. The meaning of each feature is explined shortly on the official DB site for this dataset and as given below in German."
   ]
  },
  {
   "cell_type": "markdown",
   "metadata": {},
   "source": [
    "**Langbeschreibung**\n",
    "\n",
    "In den veröffentlichten Daten sind zu jeder Haltestelle folgende Informationen enthalten:\n",
    "\n",
    "    EVA_NR:   Nummer der Haltestelle, z. B. 8000001.\n",
    "    DS100: Verweis auf Betriebsstelle, z. B. KA.\n",
    "    IFOPT: Deutschlandweiter, einheitlicher Haltestellenschlüssel, z. B. de:05334:1008\n",
    "    NAME: Name der Haltestelle, z. B. Aachen Hbf.\n",
    "    VERKEHR: Kann folgende Werte annehmen 'FV' (mit Fernverkehr), 'RV' (nur Regionalverkehr) oder 'nur DPN' (nur Regionalverkehr von privaten Eisenbahnunternehmen).\n",
    "    LAENGE: Longitude der Haltestelle in WGS84, z. B. 6.091499.\n",
    "    BREITE: Latitude der Haltestelle in WGS84, z. B. 50.7678.\n",
    "    BETREIBER_NAME: Betreibername der Haltestelle, z. B. DB Station & Ser-vice AG.\n",
    "    BETREIBER_NR: Bahnhofsnummer aus dem Stationsdatensatz. Nur für Stationen von DB Station & Service, z. B. 4.\n",
    "    STATUS: Hinweis, meist nicht verwendet z. B. neu\n",
    "\n"
   ]
  },
  {
   "cell_type": "markdown",
   "metadata": {},
   "source": [
    "<a id=\"ref2\"></a>\n",
    "# Quick data preparation "
   ]
  },
  {
   "cell_type": "markdown",
   "metadata": {},
   "source": [
    "First I will replace feature names into more readable form in English."
   ]
  },
  {
   "cell_type": "code",
   "execution_count": 23,
   "metadata": {},
   "outputs": [
    {
     "data": {
      "text/html": [
       "<div>\n",
       "<style scoped>\n",
       "    .dataframe tbody tr th:only-of-type {\n",
       "        vertical-align: middle;\n",
       "    }\n",
       "\n",
       "    .dataframe tbody tr th {\n",
       "        vertical-align: top;\n",
       "    }\n",
       "\n",
       "    .dataframe thead th {\n",
       "        text-align: right;\n",
       "    }\n",
       "</style>\n",
       "<table border=\"1\" class=\"dataframe\">\n",
       "  <thead>\n",
       "    <tr style=\"text-align: right;\">\n",
       "      <th></th>\n",
       "      <th>Station Nr</th>\n",
       "      <th>Operation Site Ref</th>\n",
       "      <th>Stop Key</th>\n",
       "      <th>Name</th>\n",
       "      <th>Traffic</th>\n",
       "      <th>Longitude</th>\n",
       "      <th>Latitude</th>\n",
       "      <th>Operator Name</th>\n",
       "      <th>Station Service Nr</th>\n",
       "      <th>Note</th>\n",
       "    </tr>\n",
       "  </thead>\n",
       "  <tbody>\n",
       "    <tr>\n",
       "      <th>0</th>\n",
       "      <td>8002551</td>\n",
       "      <td>AELB</td>\n",
       "      <td>de:02000:11943</td>\n",
       "      <td>Hamburg Elbbrücken</td>\n",
       "      <td>RV</td>\n",
       "      <td>10.024500</td>\n",
       "      <td>53.534500</td>\n",
       "      <td>DB Station und Service AG</td>\n",
       "      <td>NaN</td>\n",
       "      <td>neu</td>\n",
       "    </tr>\n",
       "    <tr>\n",
       "      <th>1</th>\n",
       "      <td>8001944</td>\n",
       "      <td>TETN</td>\n",
       "      <td>NaN</td>\n",
       "      <td>Eutingen Nord</td>\n",
       "      <td>RV</td>\n",
       "      <td>8.753100</td>\n",
       "      <td>48.484700</td>\n",
       "      <td>DB Station und Service AG</td>\n",
       "      <td>NaN</td>\n",
       "      <td>neu</td>\n",
       "    </tr>\n",
       "    <tr>\n",
       "      <th>2</th>\n",
       "      <td>8003074</td>\n",
       "      <td>MIA</td>\n",
       "      <td>NaN</td>\n",
       "      <td>Ingolstadt Audi</td>\n",
       "      <td>RV</td>\n",
       "      <td>11.407456</td>\n",
       "      <td>48.790496</td>\n",
       "      <td>DB Station und Service AG</td>\n",
       "      <td>NaN</td>\n",
       "      <td>neu</td>\n",
       "    </tr>\n",
       "    <tr>\n",
       "      <th>3</th>\n",
       "      <td>8001723</td>\n",
       "      <td>HEBA</td>\n",
       "      <td>NaN</td>\n",
       "      <td>Einbeck Otto-Hahn-Straße</td>\n",
       "      <td>RV</td>\n",
       "      <td>9.892910</td>\n",
       "      <td>51.814478</td>\n",
       "      <td>Ilmebahn GmbH</td>\n",
       "      <td>NaN</td>\n",
       "      <td>neu</td>\n",
       "    </tr>\n",
       "    <tr>\n",
       "      <th>4</th>\n",
       "      <td>8004371</td>\n",
       "      <td>KRO</td>\n",
       "      <td>NaN</td>\n",
       "      <td>Nörvenich-Rommelsheim</td>\n",
       "      <td>nur DPN</td>\n",
       "      <td>6.547586</td>\n",
       "      <td>50.782539</td>\n",
       "      <td>Rurtalbahn GmbH</td>\n",
       "      <td>NaN</td>\n",
       "      <td>neu</td>\n",
       "    </tr>\n",
       "  </tbody>\n",
       "</table>\n",
       "</div>"
      ],
      "text/plain": [
       "   Station Nr Operation Site Ref        Stop Key                      Name  \\\n",
       "0     8002551               AELB  de:02000:11943        Hamburg Elbbrücken   \n",
       "1     8001944               TETN             NaN             Eutingen Nord   \n",
       "2     8003074                MIA             NaN           Ingolstadt Audi   \n",
       "3     8001723               HEBA             NaN  Einbeck Otto-Hahn-Straße   \n",
       "4     8004371                KRO             NaN     Nörvenich-Rommelsheim   \n",
       "\n",
       "   Traffic  Longitude   Latitude              Operator Name  \\\n",
       "0       RV  10.024500  53.534500  DB Station und Service AG   \n",
       "1       RV   8.753100  48.484700  DB Station und Service AG   \n",
       "2       RV  11.407456  48.790496  DB Station und Service AG   \n",
       "3       RV   9.892910  51.814478              Ilmebahn GmbH   \n",
       "4  nur DPN   6.547586  50.782539            Rurtalbahn GmbH   \n",
       "\n",
       "   Station Service Nr Note  \n",
       "0                 NaN  neu  \n",
       "1                 NaN  neu  \n",
       "2                 NaN  neu  \n",
       "3                 NaN  neu  \n",
       "4                 NaN  neu  "
      ]
     },
     "execution_count": 23,
     "metadata": {},
     "output_type": "execute_result"
    }
   ],
   "source": [
    "new_df = df.rename(columns={\"EVA_NR\":\"Station Nr\", \"DS100\":\"Operation Site Ref\", \"IFOPT\":\"Stop Key\", \"NAME\":\"Name\", \n",
    "                            \"Verkehr\":\"Traffic\", \"Regionalverkehr\":\"Regional Traffic\", \"Laenge\":\"Longitude\", \n",
    "                            \"Breite\":\"Latitude\", \"Betreiber_Name\":\"Operator Name\", \"Betreiber_Nr\":\"Station Service Nr\", \"Status\":\"Note\"})\n",
    "new_df.head()"
   ]
  },
  {
   "cell_type": "markdown",
   "metadata": {},
   "source": [
    "It is now OK."
   ]
  },
  {
   "cell_type": "markdown",
   "metadata": {},
   "source": [
    "Lets retrieve the information of the Station at Marburg(Lahn) where I am currently living."
   ]
  },
  {
   "cell_type": "code",
   "execution_count": 24,
   "metadata": {},
   "outputs": [
    {
     "data": {
      "text/html": [
       "<div>\n",
       "<style scoped>\n",
       "    .dataframe tbody tr th:only-of-type {\n",
       "        vertical-align: middle;\n",
       "    }\n",
       "\n",
       "    .dataframe tbody tr th {\n",
       "        vertical-align: top;\n",
       "    }\n",
       "\n",
       "    .dataframe thead th {\n",
       "        text-align: right;\n",
       "    }\n",
       "</style>\n",
       "<table border=\"1\" class=\"dataframe\">\n",
       "  <thead>\n",
       "    <tr style=\"text-align: right;\">\n",
       "      <th></th>\n",
       "      <th>Station Nr</th>\n",
       "      <th>Operation Site Ref</th>\n",
       "      <th>Stop Key</th>\n",
       "      <th>Name</th>\n",
       "      <th>Traffic</th>\n",
       "      <th>Longitude</th>\n",
       "      <th>Latitude</th>\n",
       "      <th>Operator Name</th>\n",
       "      <th>Station Service Nr</th>\n",
       "      <th>Note</th>\n",
       "    </tr>\n",
       "  </thead>\n",
       "  <tbody>\n",
       "    <tr>\n",
       "      <th>328</th>\n",
       "      <td>8000337</td>\n",
       "      <td>FMBG</td>\n",
       "      <td>de:06534:10011</td>\n",
       "      <td>Marburg(Lahn)</td>\n",
       "      <td>FV</td>\n",
       "      <td>8.775014</td>\n",
       "      <td>50.819272</td>\n",
       "      <td>DB Station und Service AG</td>\n",
       "      <td>3943.0</td>\n",
       "      <td>NaN</td>\n",
       "    </tr>\n",
       "  </tbody>\n",
       "</table>\n",
       "</div>"
      ],
      "text/plain": [
       "     Station Nr Operation Site Ref        Stop Key           Name Traffic  \\\n",
       "328     8000337               FMBG  de:06534:10011  Marburg(Lahn)      FV   \n",
       "\n",
       "     Longitude   Latitude              Operator Name  Station Service Nr Note  \n",
       "328   8.775014  50.819272  DB Station und Service AG              3943.0  NaN  "
      ]
     },
     "execution_count": 24,
     "metadata": {},
     "output_type": "execute_result"
    }
   ],
   "source": [
    "new_df[new_df['Name']=='Marburg(Lahn)']"
   ]
  },
  {
   "cell_type": "code",
   "execution_count": 25,
   "metadata": {},
   "outputs": [
    {
     "name": "stdout",
     "output_type": "stream",
     "text": [
      "Longitude : 8.775014, Latitude : 50.819272\n"
     ]
    }
   ],
   "source": [
    "# Geolocation of Marburg(Lahn)\n",
    "longitude_MR = new_df[new_df['Name']=='Marburg(Lahn)'][[\"Longitude\"]].values[0][0]\n",
    "latitude_MR = new_df[new_df['Name']=='Marburg(Lahn)'][[\"Latitude\"]].values[0][0]\n",
    "\n",
    "print(f'Longitude : {longitude_MR}, Latitude : {latitude_MR}')"
   ]
  },
  {
   "cell_type": "markdown",
   "metadata": {},
   "source": [
    "Quick check the geolocation if everything is going well."
   ]
  },
  {
   "cell_type": "code",
   "execution_count": 26,
   "metadata": {},
   "outputs": [
    {
     "data": {
      "text/html": [
       "<div style=\"width:100%;\"><div style=\"position:relative;width:100%;height:0;padding-bottom:60%;\"><iframe src=\"data:text/html;charset=utf-8;base64,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\" style=\"position:absolute;width:100%;height:100%;left:0;top:0;border:none !important;\" allowfullscreen webkitallowfullscreen mozallowfullscreen></iframe></div></div>"
      ],
      "text/plain": [
       "<folium.folium.Map at 0x1c744889470>"
      ]
     },
     "execution_count": 26,
     "metadata": {},
     "output_type": "execute_result"
    }
   ],
   "source": [
    "# Plot on the map\n",
    "map_Marburg = folium.Map(location=[latitude_MR, longitude_MR], zoom_start=12)\n",
    "map_Marburg"
   ]
  },
  {
   "cell_type": "markdown",
   "metadata": {},
   "source": [
    "Now let's check if there are any missing values in the data. "
   ]
  },
  {
   "cell_type": "code",
   "execution_count": 27,
   "metadata": {},
   "outputs": [
    {
     "name": "stdout",
     "output_type": "stream",
     "text": [
      "<class 'pandas.core.frame.DataFrame'>\n",
      "RangeIndex: 6519 entries, 0 to 6518\n",
      "Data columns (total 10 columns):\n",
      " #   Column              Non-Null Count  Dtype  \n",
      "---  ------              --------------  -----  \n",
      " 0   Station Nr          6519 non-null   int64  \n",
      " 1   Operation Site Ref  6519 non-null   object \n",
      " 2   Stop Key            6512 non-null   object \n",
      " 3   Name                6519 non-null   object \n",
      " 4   Traffic             6519 non-null   object \n",
      " 5   Longitude           6519 non-null   float64\n",
      " 6   Latitude            6519 non-null   float64\n",
      " 7   Operator Name       6517 non-null   object \n",
      " 8   Station Service Nr  5395 non-null   float64\n",
      " 9   Note                24 non-null     object \n",
      "dtypes: float64(3), int64(1), object(6)\n",
      "memory usage: 509.4+ KB\n"
     ]
    }
   ],
   "source": [
    "new_df.info()"
   ]
  },
  {
   "cell_type": "markdown",
   "metadata": {},
   "source": [
    "visually observe above result and get more insight about the missing / nan values within the dataset."
   ]
  },
  {
   "cell_type": "code",
   "execution_count": 28,
   "metadata": {},
   "outputs": [
    {
     "data": {
      "text/plain": [
       "<matplotlib.axes._subplots.AxesSubplot at 0x1c74468d780>"
      ]
     },
     "execution_count": 28,
     "metadata": {},
     "output_type": "execute_result"
    },
    {
     "data": {
      "image/png": "[encoded data removed]",
      "text/plain": [
       "<Figure size 576x432 with 1 Axes>"
      ]
     },
     "metadata": {
      "needs_background": "light"
     },
     "output_type": "display_data"
    }
   ],
   "source": [
    "plt.subplots(figsize=(8, 6))\n",
    "sns.heatmap(new_df.isnull(), cbar=False)"
   ]
  },
  {
   "cell_type": "markdown",
   "metadata": {},
   "source": [
    "First of all, drop the Note column which is almost with Nan values.  \n",
    "There are around 1000 missing values in Station service Nr column.   \n",
    "Since it is like a reference number, we can drop it and just use the Stration Nr at teh first column."
   ]
  },
  {
   "cell_type": "code",
   "execution_count": 29,
   "metadata": {},
   "outputs": [
    {
     "data": {
      "text/html": [
       "<div>\n",
       "<style scoped>\n",
       "    .dataframe tbody tr th:only-of-type {\n",
       "        vertical-align: middle;\n",
       "    }\n",
       "\n",
       "    .dataframe tbody tr th {\n",
       "        vertical-align: top;\n",
       "    }\n",
       "\n",
       "    .dataframe thead th {\n",
       "        text-align: right;\n",
       "    }\n",
       "</style>\n",
       "<table border=\"1\" class=\"dataframe\">\n",
       "  <thead>\n",
       "    <tr style=\"text-align: right;\">\n",
       "      <th></th>\n",
       "      <th>Station Nr</th>\n",
       "      <th>Operation Site Ref</th>\n",
       "      <th>Stop Key</th>\n",
       "      <th>Name</th>\n",
       "      <th>Traffic</th>\n",
       "      <th>Longitude</th>\n",
       "      <th>Latitude</th>\n",
       "      <th>Operator Name</th>\n",
       "    </tr>\n",
       "  </thead>\n",
       "  <tbody>\n",
       "    <tr>\n",
       "      <th>0</th>\n",
       "      <td>8002551</td>\n",
       "      <td>AELB</td>\n",
       "      <td>de:02000:11943</td>\n",
       "      <td>Hamburg Elbbrücken</td>\n",
       "      <td>RV</td>\n",
       "      <td>10.024500</td>\n",
       "      <td>53.534500</td>\n",
       "      <td>DB Station und Service AG</td>\n",
       "    </tr>\n",
       "    <tr>\n",
       "      <th>1</th>\n",
       "      <td>8001944</td>\n",
       "      <td>TETN</td>\n",
       "      <td>NaN</td>\n",
       "      <td>Eutingen Nord</td>\n",
       "      <td>RV</td>\n",
       "      <td>8.753100</td>\n",
       "      <td>48.484700</td>\n",
       "      <td>DB Station und Service AG</td>\n",
       "    </tr>\n",
       "    <tr>\n",
       "      <th>2</th>\n",
       "      <td>8003074</td>\n",
       "      <td>MIA</td>\n",
       "      <td>NaN</td>\n",
       "      <td>Ingolstadt Audi</td>\n",
       "      <td>RV</td>\n",
       "      <td>11.407456</td>\n",
       "      <td>48.790496</td>\n",
       "      <td>DB Station und Service AG</td>\n",
       "    </tr>\n",
       "    <tr>\n",
       "      <th>3</th>\n",
       "      <td>8001723</td>\n",
       "      <td>HEBA</td>\n",
       "      <td>NaN</td>\n",
       "      <td>Einbeck Otto-Hahn-Straße</td>\n",
       "      <td>RV</td>\n",
       "      <td>9.892910</td>\n",
       "      <td>51.814478</td>\n",
       "      <td>Ilmebahn GmbH</td>\n",
       "    </tr>\n",
       "    <tr>\n",
       "      <th>4</th>\n",
       "      <td>8004371</td>\n",
       "      <td>KRO</td>\n",
       "      <td>NaN</td>\n",
       "      <td>Nörvenich-Rommelsheim</td>\n",
       "      <td>nur DPN</td>\n",
       "      <td>6.547586</td>\n",
       "      <td>50.782539</td>\n",
       "      <td>Rurtalbahn GmbH</td>\n",
       "    </tr>\n",
       "  </tbody>\n",
       "</table>\n",
       "</div>"
      ],
      "text/plain": [
       "   Station Nr Operation Site Ref        Stop Key                      Name  \\\n",
       "0     8002551               AELB  de:02000:11943        Hamburg Elbbrücken   \n",
       "1     8001944               TETN             NaN             Eutingen Nord   \n",
       "2     8003074                MIA             NaN           Ingolstadt Audi   \n",
       "3     8001723               HEBA             NaN  Einbeck Otto-Hahn-Straße   \n",
       "4     8004371                KRO             NaN     Nörvenich-Rommelsheim   \n",
       "\n",
       "   Traffic  Longitude   Latitude              Operator Name  \n",
       "0       RV  10.024500  53.534500  DB Station und Service AG  \n",
       "1       RV   8.753100  48.484700  DB Station und Service AG  \n",
       "2       RV  11.407456  48.790496  DB Station und Service AG  \n",
       "3       RV   9.892910  51.814478              Ilmebahn GmbH  \n",
       "4  nur DPN   6.547586  50.782539            Rurtalbahn GmbH  "
      ]
     },
     "execution_count": 29,
     "metadata": {},
     "output_type": "execute_result"
    }
   ],
   "source": [
    "new_df.drop(['Station Service Nr', 'Note'], axis=1, inplace=True)\n",
    "new_df.head()"
   ]
  },
  {
   "cell_type": "code",
   "execution_count": 30,
   "metadata": {},
   "outputs": [
    {
     "data": {
      "text/plain": [
       "Station Nr            0\n",
       "Operation Site Ref    0\n",
       "Stop Key              7\n",
       "Name                  0\n",
       "Traffic               0\n",
       "Longitude             0\n",
       "Latitude              0\n",
       "Operator Name         2\n",
       "dtype: int64"
      ]
     },
     "execution_count": 30,
     "metadata": {},
     "output_type": "execute_result"
    }
   ],
   "source": [
    "new_df.isnull().sum()"
   ]
  },
  {
   "cell_type": "code",
   "execution_count": 31,
   "metadata": {},
   "outputs": [
    {
     "data": {
      "text/plain": [
       "Station Nr            0\n",
       "Operation Site Ref    0\n",
       "Stop Key              0\n",
       "Name                  0\n",
       "Traffic               0\n",
       "Longitude             0\n",
       "Latitude              0\n",
       "Operator Name         0\n",
       "dtype: int64"
      ]
     },
     "execution_count": 31,
     "metadata": {},
     "output_type": "execute_result"
    }
   ],
   "source": [
    "# drop all rows with any NaN and missing values\n",
    "new_df = new_df.dropna()\n",
    "new_df.isnull().sum()"
   ]
  },
  {
   "cell_type": "markdown",
   "metadata": {},
   "source": [
    "Now the dataset is ready to be further prrocessed."
   ]
  },
  {
   "cell_type": "markdown",
   "metadata": {},
   "source": [
    "<a id=\"ref3\"></a>\n",
    "# Perform visualization and data exploration  \n",
    "\n",
    "I am living in Germany almost five years and I only know the DB and the HLB. I would like to know if there are any other companies who are operating."
   ]
  },
  {
   "cell_type": "code",
   "execution_count": 32,
   "metadata": {},
   "outputs": [
    {
     "data": {
      "text/plain": [
       "DB Station und Service AG                                       5399\n",
       "DB RegioNetz Infrastruktur GmbH                                  245\n",
       "Albtal-Verkehrs-Gesellschaft mbH                                 179\n",
       "Harzer Schmalspurbahnen GmbH                                      47\n",
       "AKN Eisenbahn AG                                                  46\n",
       "SWEG Schienenwege GmbH                                            42\n",
       "Rurtalbahn GmbH                                                   40\n",
       "City-Bahn Chemnitz GmbH                                           39\n",
       "Hohenzollerische Landesbahn AG                                    33\n",
       "Sächsische Dampfeisenbahngesellschaft mbH                         30\n",
       "Usedomer Bäderbahn GmbH                                           28\n",
       "Regio Infra Nord-Ost GmbH & Co. KG                                26\n",
       "Erms-Neckar-Bahn AG                                               25\n",
       "Eisenbahnen und Verkehrsbetriebe Elbe-Weser GmbH                  24\n",
       "Niederbarnimer Eisenbahn AG                                       18\n",
       "EVS EUREGIO-Verkehrsschienennetz GmbH                             17\n",
       "Hessische Landesbahn Basis                                        17\n",
       "DB Station und Service AG ?                                       15\n",
       "Eisenbahn-Bau- und Betriebsgesellschaft Pressnitztalbahn mbH      15\n",
       "Kahlgrund Verkehrs-GmbH                                           13\n",
       "Württembergische Eisenbahn-Gesellschaft mbH                       12\n",
       "Schweizerischen Bundesbahnen                                      11\n",
       "Sächsisch-Oberlausitzer Eisenbahngesellschaft mbH                 11\n",
       "Deutsche Regionaleisenbahn GmbH                                   10\n",
       "Bahnbetriebe Blumberg GmbH & Co.KG                                10\n",
       "Zweckverband Schönbuchbahn                                        10\n",
       "RP Eisenbahn GmbH                                                 10\n",
       "Zweckverband Verkehrsverband Wieslauftalbahn                       9\n",
       "Regental Bahnbetriebs-GmbH                                         8\n",
       "Ilztalbahn GmbH                                                    8\n",
       "Zweckverband ÖPNV im Ammertal                                      8\n",
       "Regiobahn GmbH                                                     8\n",
       "Norddeutsche Eisenbahngesellschaft Niebüll GmbH                    7\n",
       "Mecklenburgische Bäderbahn Molli GmbH                              7\n",
       "Farge-Vegesacker Eisenbahn GmbH                                    7\n",
       "Regental Bahnbetriebsgesellschaft mbH                              7\n",
       "Westerwaldbahn GmbH                                                6\n",
       "Verkehrsbetriebe Karlsruhe GmbH                                    6\n",
       "Ulmer Eisenbahnfreunde Eisenbahnverkehrsgesellschaft mbH           6\n",
       "Verkehrsgesellschaft Landkreis Osnabrück GmbH                      5\n",
       "Dessauer Verkehrs- und Eisenbahngesellschaft mbH                   5\n",
       "Bentheimer Eisenbahn AG                                            5\n",
       "Donnersberg-Touristik-Verband e.V.                                 5\n",
       "Tegernsee-Bahn Betriebsgesellschaft mbH                            4\n",
       "Stadtverwaltung Pfullendorf                                        4\n",
       "Rennsteigbahn GmbH & Co. KG                                        4\n",
       "SWU Verkehr GmbH                                                   4\n",
       "EVU Seehäsle                                                       3\n",
       "Thüringer Eisenbahn GmbH                                           2\n",
       "Verkehrsbetriebe Extertal-Extertalbahn GmbH                        2\n",
       "Städtische Verkehrsbetriebe Zwickau                                2\n",
       "Stadt Bad Wurzach                                                  1\n",
       "BayernBahn Gmbh                                                    1\n",
       "Niedersachsen Ports GmbH & Co. KG                                  1\n",
       "Torsten Meincke Eisenbahn GmbH                                     1\n",
       "Stadtwerke Trossingen GmbH                                         1\n",
       "Betreibergesellschaft Flughafen Düsseldorf GmbH                    1\n",
       "Scharmützelseebahn GmbH                                            1\n",
       "Name: Operator Name, dtype: int64"
      ]
     },
     "execution_count": 32,
     "metadata": {},
     "output_type": "execute_result"
    }
   ],
   "source": [
    "new_df['Operator Name'].value_counts()"
   ]
  },
  {
   "cell_type": "code",
   "execution_count": 33,
   "metadata": {},
   "outputs": [
    {
     "data": {
      "image/png": "[encoded data removed]",
      "text/plain": [
       "<Figure size 1080x576 with 1 Axes>"
      ]
     },
     "metadata": {
      "needs_background": "light"
     },
     "output_type": "display_data"
    }
   ],
   "source": [
    "operator_name_df = new_df['Operator Name'].value_counts().to_frame()\n",
    "# plot data in bar chart\n",
    "operator_name_df.plot(kind='bar', width=0.8, figsize=(15, 8), legend=False)\n",
    "plt.axhline(y=50, linewidth=1.5, color='r', linestyle='--')\n",
    "plt.yticks([50, 1000, 2000, 3000, 4000, 5000], ['50', '1000', '2000', '3000', '4000', '5000'])\n",
    "plt.xlabel('State', fontsize=14) # add to x-label to the plot\n",
    "plt.ylabel('Number of Stations', fontsize=14) # add y-label to the plot\n",
    "plt.title('Number of stations by each Operator/ Company', fontsize=14) # add title to the plot\n",
    "plt.show()"
   ]
  },
  {
   "cell_type": "markdown",
   "metadata": {},
   "source": [
    "From above exploration, we knew that there are 58 Train station operators in Germany. Amogn them the Deutsche Bahn (DB) is the biggest Operator as known so by amost everyone in Germany. Except DB there are 57 Operators have few number of operating points ranges from 1 to ~250."
   ]
  },
  {
   "cell_type": "markdown",
   "metadata": {},
   "source": [
    "<a id=\"ref4\"></a>\n",
    "# Perform clustering on the stations"
   ]
  },
  {
   "cell_type": "code",
   "execution_count": 34,
   "metadata": {},
   "outputs": [],
   "source": [
    "# This below sell will be usefull when whe wanna know the structure of stations  \n",
    "# in subdatasets like 'FV', 'RV' and 'nur DPN' for the traffic type.\n",
    "# fv_filter = new_df['Traffic'].isin(['FV', 'nur DPN'])\n",
    "# new_df = new_df[fv_filter]"
   ]
  },
  {
   "cell_type": "markdown",
   "metadata": {},
   "source": [
    "In this part I would like to use the unsupervised machine learning algotihm KMeans clustering. KMeans clustering is the mostly used unsupervised machine learning classification algorithm. It is fast and firt-step-try kind method.  \n",
    "- To find out the optimal number of cluster, the K value, in the KMeans clustering I will use two metrics methods, namely Elbow method and Silhouette Analysis\n",
    "- To visually demonstrate the clusters I will plot all DB Station clusters superimposed on the map Germany.\n"
   ]
  },
  {
   "cell_type": "markdown",
   "metadata": {},
   "source": [
    "### Elbow Method"
   ]
  },
  {
   "cell_type": "code",
   "execution_count": 35,
   "metadata": {},
   "outputs": [
    {
     "data": {
      "image/png": "[encoded data removed]",
      "text/plain": [
       "<Figure size 576x288 with 1 Axes>"
      ]
     },
     "metadata": {
      "needs_background": "light"
     },
     "output_type": "display_data"
    }
   ],
   "source": [
    "loc_df = new_df[[\"Longitude\", \"Latitude\"]]\n",
    "distortions = [] \n",
    "inertias = [] \n",
    "mapping1 = {} \n",
    "mapping2 = {} \n",
    "K = range(1,17) \n",
    "# Standardize the data\n",
    "X = StandardScaler().fit_transform(loc_df)\n",
    "\n",
    "for k in K: \n",
    "\t#Building and fitting the model \n",
    "\tkmeanModel = KMeans(n_clusters=k, random_state=0).fit(X) \n",
    "\tkmeanModel.fit(X)\t \n",
    "\t\n",
    "\tdistortions.append(sum(np.min(cdist(X, kmeanModel.cluster_centers_, \n",
    "\t\t\t\t\t'euclidean'),axis=1)) / X.shape[0]) \n",
    "\tinertias.append(kmeanModel.inertia_) \n",
    "\n",
    "\tmapping1[k] = sum(np.min(cdist(X, kmeanModel.cluster_centers_, \n",
    "\t\t\t\t'euclidean'),axis=1)) / X.shape[0] \n",
    "\tmapping2[k] = kmeanModel.inertia_ \n",
    "    \n",
    "# ploting\n",
    "plt.figure(figsize=(8, 4))\n",
    "plt.plot(K, distortions, 'bx-') \n",
    "plt.xlabel('Values of K') \n",
    "plt.ylabel('Distortion') \n",
    "plt.title('The Elbow Method using Distortion') \n",
    "plt.show() "
   ]
  },
  {
   "cell_type": "markdown",
   "metadata": {},
   "source": [
    "The elbow method did not give quite noticeable elbow, but just a monoton decreasing in the Distortion with the increasing number of klasters K.  \n",
    "It might be useful to calculate the **Silhouette coefficient** to make it easier to determine the number of clusters. The Silhouette coefficient takes value from -1 to 1 such that value larger than zero to closer to one is better. positive value closer to one, indicates that the inter cluster entries are well seperated."
   ]
  },
  {
   "cell_type": "markdown",
   "metadata": {},
   "source": [
    "---"
   ]
  },
  {
   "cell_type": "markdown",
   "metadata": {},
   "source": [
    "### Silhouette Analysis"
   ]
  },
  {
   "cell_type": "code",
   "execution_count": null,
   "metadata": {},
   "outputs": [
    {
     "data": {
      "image/png": "[encoded data removed]",
      "text/plain": [
       "<Figure size 576x360 with 1 Axes>"
      ]
     },
     "metadata": {
      "needs_background": "light"
     },
     "output_type": "display_data"
    }
   ],
   "source": [
    "for i, k in enumerate([2, 6]):\n",
    "    fig, ax1 = plt.subplots(1, 1)\n",
    "    fig.set_size_inches(8,  5)\n",
    "    \n",
    "    # Build the Kmeans model \n",
    "    km = KMeans(n_clusters=k, random_state=0)\n",
    "    # Fit the model to the data\n",
    "    labels = km.fit_predict(X)\n",
    "    centroids = km.cluster_centers_\n",
    "\n",
    "    # Get silhouette samples\n",
    "    silhouette_vals = silhouette_samples(X, labels)\n",
    "\n",
    "    # Silhouette plot\n",
    "    y_ticks = []\n",
    "    y_lower, y_upper = 0, 0\n",
    "    for i, cluster in enumerate(np.unique(labels)):\n",
    "        cluster_silhouette_vals = silhouette_vals[labels == cluster]\n",
    "        cluster_silhouette_vals.sort()\n",
    "        y_upper += len(cluster_silhouette_vals)\n",
    "        ax1.barh(range(y_lower, y_upper), cluster_silhouette_vals, edgecolor='none', height=1)\n",
    "        ax1.text(-0.03, (y_lower + y_upper) / 2, str(i + 1))\n",
    "        y_lower += len(cluster_silhouette_vals)\n",
    "\n",
    "    # Get the average silhouette score and plot it\n",
    "    avg_score = np.mean(silhouette_vals)\n",
    "    ax1.axvline(avg_score, linestyle='--', linewidth=2, color='green')\n",
    "    ax1.set_yticks([])\n",
    "    ax1.set_xlim([-0.1, 1])\n",
    "    ax1.set_xlabel('Silhouette coefficient values')\n",
    "    ax1.set_ylabel('Cluster labels')\n",
    "    ax1.set_title('Silhouette plot for the various clusters', y=1.02);\n",
    "    plt.tight_layout()\n",
    "    plt.suptitle(f'k = {k}, with average score = {avg_score:.2f}',\n",
    "                 fontsize=16, fontweight='semibold', y=1.05);"
   ]
  },
  {
   "cell_type": "markdown",
   "metadata": {},
   "source": [
    "## Now plot these two clusters superimposed on the map of Germany. "
   ]
  },
  {
   "cell_type": "markdown",
   "metadata": {},
   "source": [
    "### K=2"
   ]
  },
  {
   "cell_type": "code",
   "execution_count": null,
   "metadata": {},
   "outputs": [],
   "source": [
    "loc_df = new_df[[\"Longitude\", \"Latitude\"]]\n",
    "\n",
    "# set number of clusters, since there are four Boroughs with the names including the word Toronto\n",
    "kclusters = 2\n",
    "# K-means clustering does not work well with categorical features, so drop them\n",
    "# run k-means clustering\n",
    "kmeans = KMeans(n_clusters=kclusters, random_state=0).fit(X)\n",
    "\n",
    "# check cluster labels generated for each row in the dataframe\n",
    "#len(kmeans.labels_)#[0:10] \n",
    "loc_df.insert(0, 'Cluster Labels', kmeans.labels_)\n",
    "\n",
    "# Plot on the map\n",
    "map_Marburg = folium.Map(location=[latitude_MR, longitude_MR], zoom_start=6)\n",
    "\n",
    "\n",
    "# set color scheme for the clusters\n",
    "x = np.arange(kclusters)\n",
    "ys = [i + x + (i*x)**2 for i in range(kclusters)]\n",
    "colors_array = cm.gist_rainbow(np.linspace(0, 1, len(ys)))\n",
    "gist_rainbow = [colors.rgb2hex(i) for i in colors_array]\n",
    "\n",
    "# add markers to the map\n",
    "markers_colors = []\n",
    "for lat, lon, cluster in zip(loc_df['Latitude'], loc_df['Longitude'], loc_df['Cluster Labels']):\n",
    "    label = folium.Popup(' Cluster ' + str(cluster), parse_html=True)\n",
    "    folium.CircleMarker(\n",
    "        [lat, lon],\n",
    "        radius=1,\n",
    "        popup=label,\n",
    "        color=gist_rainbow[cluster-1],\n",
    "        fill=True,\n",
    "        fill_color=gist_rainbow[cluster-1],\n",
    "        fill_opacity=1.0).add_to(map_Marburg)\n",
    "       \n",
    "map_Marburg"
   ]
  },
  {
   "cell_type": "markdown",
   "metadata": {},
   "source": [
    "### K=6"
   ]
  },
  {
   "cell_type": "code",
   "execution_count": null,
   "metadata": {},
   "outputs": [],
   "source": [
    "loc_df = new_df[[\"Longitude\", \"Latitude\"]]\n",
    "# set number of clusters, since there are four Boroughs with the names including the word Toronto\n",
    "kclusters = 6\n",
    "# K-means clustering does not work well with categorical features, so drop them\n",
    "# run k-means clustering\n",
    "kmeans = KMeans(n_clusters=kclusters, random_state=0).fit(X)\n",
    "\n",
    "# check cluster labels generated for each row in the dataframe\n",
    "len(kmeans.labels_)#[0:10] \n",
    "\n",
    "loc_df.insert(0, 'Cluster Labels', kmeans.labels_)\n",
    "\n",
    "# Plot on the map\n",
    "map_Marburg = folium.Map(location=[latitude_MR, longitude_MR], zoom_start=6)\n",
    "\n",
    "\n",
    "# set color scheme for the clusters\n",
    "x = np.arange(kclusters)\n",
    "ys = [i + x + (i*x)**2 for i in range(kclusters)]\n",
    "colors_array = cm.gist_rainbow(np.linspace(0, 1, len(ys)))\n",
    "gist_rainbow = [colors.rgb2hex(i) for i in colors_array]\n",
    "\n",
    "# add markers to the map\n",
    "markers_colors = []\n",
    "for lat, lon, cluster in zip(loc_df['Latitude'], loc_df['Longitude'], loc_df['Cluster Labels']):\n",
    "    label = folium.Popup(' Cluster ' + str(cluster), parse_html=True)\n",
    "    folium.CircleMarker(\n",
    "        [lat, lon],\n",
    "        radius=1,\n",
    "        popup=label,\n",
    "        color=gist_rainbow[cluster-1],\n",
    "        fill=True,\n",
    "        fill_color=gist_rainbow[cluster-1],\n",
    "        fill_opacity=1.0).add_to(map_Marburg)\n",
    "           \n",
    "map_Marburg"
   ]
  },
  {
   "cell_type": "markdown",
   "metadata": {},
   "source": [
    "---"
   ]
  },
  {
   "cell_type": "markdown",
   "metadata": {},
   "source": [
    "<a id=\"ref5\"></a>\n",
    "# Conclusion"
   ]
  },
  {
   "cell_type": "markdown",
   "metadata": {},
   "source": [
    "In this Notebook I have tried to understand the Deutsche Bahn (DB) Stations dataset.  \n",
    "- First of all I have found the data by searching the Internet and loaded it into this Notebook for further processing.  \n",
    "- Secondly, I have did some basic data prepation and cleaning.  \n",
    "- Thirdly, I have performed data exploration on one feature of it.  \n",
    "- At the end, I tried to cluster these train stations by their geolocations with the help of unsupervised machine learning  \n",
    "algotihm KMean clustering. Since the train stations are located quite nearby. Novertheless, as a preliminary approach  \n",
    "this clustering result showed that one can might classify them into two clusters or six clusters. \n",
    "- Last but not least, this kind of classifying may give some hint when Deutsche Bahn (DB) is planning to test some projects. For instance, it is better and cost effective to implement some price changing or some kind of new costumer services at smaller scale, in one or two of these class of regions instead of implementing at all stations nationwide. Off course, this kind of classification may give more insights in the decision making process when we analyzie together with other datasets about ticket price, costumer comments, quality of local infrastructure etc.  "
   ]
  },
  {
   "cell_type": "markdown",
   "metadata": {},
   "source": [
    "--- The End ---"
   ]
  }
 ],
 "metadata": {
  "kernelspec": {
   "display_name": "Python 3",
   "language": "python",
   "name": "python3"
  },
  "language_info": {
   "codemirror_mode": {
    "name": "ipython",
    "version": 3
   },
   "file_extension": ".py",
   "mimetype": "text/x-python",
   "name": "python",
   "nbconvert_exporter": "python",
   "pygments_lexer": "ipython3",
   "version": "3.6.10"
  }
 },
 "nbformat": 4,
 "nbformat_minor": 4
}
